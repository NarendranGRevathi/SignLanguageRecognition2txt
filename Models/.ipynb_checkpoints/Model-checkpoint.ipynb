### Importing the Libraries

import tensorflow as tf
from keras.preprocessing.image import ImageDataGenerator

tf.__version__ 

### Part 1 - Data Preprocessing

#### Generating images for the Training set

train_datagen = ImageDataGenerator(rescale = 1./255,
                                   shear_range = 0.2,
                                   zoom_range = 0.2,
                                   horizontal_flip = True)

#### Generating images for the Test set

test_datagen = ImageDataGenerator(rescale = 1./255)

### Creating the Training set

training_set = train_datagen.flow_from_directory('S:/Sign Language To Text Language Conversion/dataSet/trainingData',                                
                                                 target_size = (64, 64),
                                                 batch_size = 32,
                                                 color_mode = 'grayscale',                                
                                                 class_mode = 'categorical')

test_set = test_datagen.flow_from_directory('dataSet/testingData',
                                            target_size = (64, 64),                                  
                                            batch_size = 32,        
                                            color_mode = 'grayscale',
                                            class_mode = 'categorical')

### Part 2 - Building the CNN

#### Initializing the CNN

classifier = tf.keras.models.Sequential()

#### Step 1 - Convolution

classifier.add(tf.keras.layers.Conv2D(filters=32,
                                     kernel_size=3, 
                                     padding="same", 
                                     activation="relu", 
                                     input_shape=[64, 64, 3]))

#### Step 2 - Pooling

classifier.add(tf.keras.layers.MaxPool2D(pool_size=2, 
                                         strides=2, 
                                         padding='valid'))

#### Adding a second convolutional layer

classifier.add(tf.keras.layers.Conv2D(filters=32, 
                                      kernel_size=3, 
                                      padding="same", 
                                      activation="relu"))

classifier.add(tf.keras.layers.MaxPool2D(pool_size=2, 
                                         strides=2, 
                                         padding='valid'))

#### Step 3 - Flattening

classifier.add(tf.keras.layers.Flatten())

#### Step 4 - Full Connection

classifier.add(tf.keras.layers.Dense(units=128, 
                                     activation='relu'))

### Part 3 - Training the CNN

#### Compiling the CNN

classifier.compile(optimizer = 'adam', 
                   loss = 'categorical_crossentropy', 
                   metrics = ['accuracy'])

#### Training the CNN on the Training set and evaluating it on the Test set

cnn.fit_generator(training_set,
                  #steps_per_epoch = , # No of Images in training set
                  epochs = 15,
                  validation_data = test_set,
                  #validation_steps = ) # No of Images in test set

classifier.summary()

#### Saving the Model

model_json = classifier.to_json()
with open("model.json", "w") as json_file:
    json_file.write(model_json)
print('Model Saved')
classifier.save_weights('model.h5')
print('Weights saved')

